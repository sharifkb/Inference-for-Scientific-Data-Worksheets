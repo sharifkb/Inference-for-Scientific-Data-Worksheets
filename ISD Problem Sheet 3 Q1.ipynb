{
 "cells": [
  {
   "cell_type": "markdown",
   "metadata": {},
   "source": [
    "# Inference from Scientific Data, 2020 - Worksheet 3 - Question 1\n"
   ]
  },
  {
   "cell_type": "code",
   "execution_count": 1,
   "metadata": {},
   "outputs": [],
   "source": [
    "import numpy as np\n",
    "import matplotlib.pyplot as plt\n",
    "import csv\n",
    "import pandas as pd\n",
    "from scipy.stats import t\n",
    "from scipy import stats"
   ]
  },
  {
   "cell_type": "code",
   "execution_count": 2,
   "metadata": {
    "scrolled": true
   },
   "outputs": [],
   "source": [
    "path = r\"C:\\Users\\shari\\OneDrive\\Documents\\Work\\4th Yr\\Inference for Scientific Data\\Problem Sheet 3\\Tdisp.xls\""
   ]
  },
  {
   "cell_type": "code",
   "execution_count": 3,
   "metadata": {},
   "outputs": [],
   "source": [
    "xl = pd.ExcelFile(path)\n",
    "df = xl.parse(\"Tdisp\")  # sheet name\n",
    "x = df.to_numpy().T\n",
    "T = x[0]\n",
    "D = x[1]"
   ]
  },
  {
   "cell_type": "code",
   "execution_count": 4,
   "metadata": {},
   "outputs": [
    {
     "data": {
      "text/html": [
       "<div>\n",
       "<style scoped>\n",
       "    .dataframe tbody tr th:only-of-type {\n",
       "        vertical-align: middle;\n",
       "    }\n",
       "\n",
       "    .dataframe tbody tr th {\n",
       "        vertical-align: top;\n",
       "    }\n",
       "\n",
       "    .dataframe thead th {\n",
       "        text-align: right;\n",
       "    }\n",
       "</style>\n",
       "<table border=\"1\" class=\"dataframe\">\n",
       "  <thead>\n",
       "    <tr style=\"text-align: right;\">\n",
       "      <th></th>\n",
       "      <th>Temp degc</th>\n",
       "      <th>Displacement (10^-6m)</th>\n",
       "    </tr>\n",
       "  </thead>\n",
       "  <tbody>\n",
       "    <tr>\n",
       "      <th>0</th>\n",
       "      <td>23.4</td>\n",
       "      <td>3.11</td>\n",
       "    </tr>\n",
       "    <tr>\n",
       "      <th>1</th>\n",
       "      <td>24.9</td>\n",
       "      <td>2.96</td>\n",
       "    </tr>\n",
       "    <tr>\n",
       "      <th>2</th>\n",
       "      <td>17.7</td>\n",
       "      <td>2.85</td>\n",
       "    </tr>\n",
       "    <tr>\n",
       "      <th>3</th>\n",
       "      <td>12.3</td>\n",
       "      <td>2.78</td>\n",
       "    </tr>\n",
       "    <tr>\n",
       "      <th>4</th>\n",
       "      <td>16.2</td>\n",
       "      <td>2.92</td>\n",
       "    </tr>\n",
       "    <tr>\n",
       "      <th>5</th>\n",
       "      <td>11.1</td>\n",
       "      <td>2.76</td>\n",
       "    </tr>\n",
       "    <tr>\n",
       "      <th>6</th>\n",
       "      <td>16.5</td>\n",
       "      <td>2.77</td>\n",
       "    </tr>\n",
       "    <tr>\n",
       "      <th>7</th>\n",
       "      <td>27.3</td>\n",
       "      <td>3.00</td>\n",
       "    </tr>\n",
       "    <tr>\n",
       "      <th>8</th>\n",
       "      <td>21.9</td>\n",
       "      <td>2.89</td>\n",
       "    </tr>\n",
       "    <tr>\n",
       "      <th>9</th>\n",
       "      <td>28.2</td>\n",
       "      <td>3.09</td>\n",
       "    </tr>\n",
       "  </tbody>\n",
       "</table>\n",
       "</div>"
      ],
      "text/plain": [
       "   Temp degc  Displacement (10^-6m)\n",
       "0       23.4                   3.11\n",
       "1       24.9                   2.96\n",
       "2       17.7                   2.85\n",
       "3       12.3                   2.78\n",
       "4       16.2                   2.92\n",
       "5       11.1                   2.76\n",
       "6       16.5                   2.77\n",
       "7       27.3                   3.00\n",
       "8       21.9                   2.89\n",
       "9       28.2                   3.09"
      ]
     },
     "execution_count": 4,
     "metadata": {},
     "output_type": "execute_result"
    }
   ],
   "source": [
    "df"
   ]
  },
  {
   "cell_type": "code",
   "execution_count": 5,
   "metadata": {
    "scrolled": true
   },
   "outputs": [
    {
     "data": {
      "text/plain": [
       "<AxesSubplot:xlabel='Displacement (10^-6m)', ylabel='Temp degc'>"
      ]
     },
     "execution_count": 5,
     "metadata": {},
     "output_type": "execute_result"
    },
    {
     "data": {
      "image/png": "[encoded data removed]",
      "text/plain": [
       "<Figure size 432x288 with 1 Axes>"
      ]
     },
     "metadata": {
      "needs_background": "light"
     },
     "output_type": "display_data"
    }
   ],
   "source": [
    "df.plot(x = \"Displacement (10^-6m)\", y = \"Temp degc\", kind = \"scatter\")"
   ]
  },
  {
   "cell_type": "markdown",
   "metadata": {},
   "source": [
    "There does appear to be an upward trend. Additionally, there doesnt appear to be any rogue points "
   ]
  },
  {
   "cell_type": "markdown",
   "metadata": {},
   "source": [
    "### Part 1"
   ]
  },
  {
   "cell_type": "markdown",
   "metadata": {},
   "source": [
    "$H_0$, the null hypothesis, is that T and D are uncorrelated."
   ]
  },
  {
   "cell_type": "markdown",
   "metadata": {},
   "source": [
    "#### Part a - The Pearson Test"
   ]
  },
  {
   "cell_type": "markdown",
   "metadata": {},
   "source": [
    "The Pearson correlattion coefficient, $r_p$ is given by:\n",
    "\n",
    "\\begin{equation*}\n",
    "r_p = \\frac{1}{\\sigma_T \\sigma_D}\\frac{1}{N}\\sum^N_{i=1}\\big(T_i-\\hat{T}\\big)\\big(D_i-\\hat{D}\\big)\n",
    "\\end{equation*}\n",
    "\n",
    "Where $\\sigma_T$ is the standard deviation of the temperature, and $\\hat{T}$ the the mean of the temperature. The equivalent with $D$. "
   ]
  },
  {
   "cell_type": "markdown",
   "metadata": {},
   "source": [
    "The standard deviation of the Pearson correlattion coefficient, $\\sigma_{r_p}$ is given by:\n",
    "\n",
    "\\begin{equation*}\n",
    "\\sigma_{r_p} = \\frac{1-r_p^2}{N-1}\n",
    "\\end{equation*}"
   ]
  },
  {
   "cell_type": "code",
   "execution_count": 6,
   "metadata": {},
   "outputs": [],
   "source": [
    "sig_T = df.std(ddof = 0).values[0]\n",
    "sig_D = df.std(ddof = 0).values[1]\n",
    "\n",
    "av_T = df.mean().values[0]\n",
    "av_D = df.mean().values[1]\n",
    "\n",
    "N = len(T)"
   ]
  },
  {
   "cell_type": "code",
   "execution_count": 7,
   "metadata": {},
   "outputs": [
    {
     "data": {
      "text/plain": [
       "0.8565991395278174"
      ]
     },
     "execution_count": 7,
     "metadata": {},
     "output_type": "execute_result"
    }
   ],
   "source": [
    "rp = 1/(sig_T*sig_D*N)*sum((T-av_T)*(D-av_D))\n",
    "rp"
   ]
  },
  {
   "cell_type": "code",
   "execution_count": 8,
   "metadata": {},
   "outputs": [
    {
     "data": {
      "text/plain": [
       "0.02958199046224476"
      ]
     },
     "execution_count": 8,
     "metadata": {},
     "output_type": "execute_result"
    }
   ],
   "source": [
    "sig_rp = (1-rp**2)/(N-1)\n",
    "sig_rp"
   ]
  },
  {
   "cell_type": "markdown",
   "metadata": {},
   "source": [
    " ### the Pearson correlation coefficient, $r_p = 0.857 \\pm 0.029$"
   ]
  },
  {
   "cell_type": "markdown",
   "metadata": {},
   "source": [
    "A value of $r_p$ close to +1 indicates a positive correlation"
   ]
  },
  {
   "cell_type": "markdown",
   "metadata": {},
   "source": [
    "$t_p$ is given by:\n",
    "\n",
    "\\begin{equation*}\n",
    "t_p = \\frac{r_p\\sqrt{N-2}}{\\sqrt{1-r_p^2}}\n",
    "\\end{equation*}"
   ]
  },
  {
   "cell_type": "code",
   "execution_count": 9,
   "metadata": {},
   "outputs": [
    {
     "data": {
      "text/plain": [
       "4.695563047666037"
      ]
     },
     "execution_count": 9,
     "metadata": {},
     "output_type": "execute_result"
    }
   ],
   "source": [
    "tp = rp*np.sqrt(N-2)/(np.sqrt(1-rp**2))\n",
    "tp"
   ]
  },
  {
   "cell_type": "markdown",
   "metadata": {},
   "source": [
    "### Pearson statistic $t_p = 4.700$"
   ]
  },
  {
   "cell_type": "code",
   "execution_count": 10,
   "metadata": {},
   "outputs": [
    {
     "data": {
      "text/plain": [
       "<matplotlib.collections.LineCollection at 0x20e402128b0>"
      ]
     },
     "execution_count": 10,
     "metadata": {},
     "output_type": "execute_result"
    },
    {
     "data": {
      "image/png": "[encoded data removed]",
      "text/plain": [
       "<Figure size 432x288 with 1 Axes>"
      ]
     },
     "metadata": {
      "needs_background": "light"
     },
     "output_type": "display_data"
    }
   ],
   "source": [
    "dof = len(T)-2\n",
    "s = np.random.standard_t(dof, size=100000)\n",
    "h = plt.hist(s, bins=100, density=True); plt.vlines(tp, ymin = 0, ymax = 0.4, color = \"k\")"
   ]
  },
  {
   "cell_type": "markdown",
   "metadata": {},
   "source": [
    "Without assuming any any correlation, we can perform a two tailed test for positive and negative correlations\n",
    "\n",
    "\\begin{equation*}\n",
    "p = \\int_{|t_p|}^{\\infty}f_{\\nu=8}(t_p')dtp'\n",
    "\\end{equation*}\n",
    "\n",
    "This can be evaluated numerically using the trapezium rule"
   ]
  },
  {
   "cell_type": "code",
   "execution_count": 11,
   "metadata": {},
   "outputs": [
    {
     "data": {
      "text/plain": [
       "0.00156"
      ]
     },
     "execution_count": 11,
     "metadata": {},
     "output_type": "execute_result"
    }
   ],
   "source": [
    "p = (np.sum(tp<s)/float(len(s)) + np.sum(-tp>s)/float(len(s)))\n",
    "p"
   ]
  },
  {
   "cell_type": "markdown",
   "metadata": {},
   "source": [
    "### p-value $\\sim 0.14\\%$"
   ]
  },
  {
   "cell_type": "markdown",
   "metadata": {},
   "source": [
    "Note that the value of p might be diffrent due to the random generation of the normal distribution"
   ]
  },
  {
   "cell_type": "markdown",
   "metadata": {},
   "source": [
    "Repeating this with the stats package:"
   ]
  },
  {
   "cell_type": "code",
   "execution_count": 12,
   "metadata": {},
   "outputs": [
    {
     "data": {
      "text/plain": [
       "(0.8565991395278174, 0.001550329624127627)"
      ]
     },
     "execution_count": 12,
     "metadata": {},
     "output_type": "execute_result"
    }
   ],
   "source": [
    "vals = stats.pearsonr(T, D)\n",
    "vals"
   ]
  },
  {
   "cell_type": "code",
   "execution_count": 13,
   "metadata": {},
   "outputs": [
    {
     "data": {
      "text/plain": [
       "4.695563047666037"
      ]
     },
     "execution_count": 13,
     "metadata": {},
     "output_type": "execute_result"
    }
   ],
   "source": [
    "tp = vals[0]*np.sqrt(N-2)/(np.sqrt(1-vals[0]**2))\n",
    "tp"
   ]
  },
  {
   "cell_type": "markdown",
   "metadata": {},
   "source": [
    "Therefore, there is a 0.14% chance of obtaining a $|t_p| \\geq 4.70$  under the null hypotheses as per my calculation.\n",
    "\n",
    "Or, a 0.16% chance of obtaining a $|t_p|\\geq 4.70$  under the null hypotheses using the stats package. \n",
    "\n",
    "Consequently, it is likely that the null hypothesis is incorrect and there is infact a correlation between $T$ and $D$. The value of $r_p \\sim 1$ indicates that this correlation is likely to be positive."
   ]
  },
  {
   "cell_type": "markdown",
   "metadata": {},
   "source": [
    "#### Part b - The Spearman rank Test"
   ]
  },
  {
   "cell_type": "markdown",
   "metadata": {},
   "source": [
    "The Spearman correlattion coefficient, $r_s$ is given by:\n",
    "\n",
    "\\begin{equation*}\n",
    "r_s = 1 - \\frac{6\\sum_{i=1}^N d_i^2}{N(N^2-1)}\n",
    "\\end{equation*}\n",
    "\n",
    "Where $d_i$ is the difference between the ranked values of each row in the data"
   ]
  },
  {
   "cell_type": "markdown",
   "metadata": {},
   "source": [
    "The corresponding $t_s$ and p values are found in a similar way as in the Pearson test. \n",
    "\n",
    "This is all conveniently done in a stats package used below"
   ]
  },
  {
   "cell_type": "code",
   "execution_count": 14,
   "metadata": {},
   "outputs": [
    {
     "data": {
      "text/plain": [
       "SpearmanrResult(correlation=0.8303030303030302, pvalue=0.0029402270232795065)"
      ]
     },
     "execution_count": 14,
     "metadata": {},
     "output_type": "execute_result"
    }
   ],
   "source": [
    "vals2 = stats.spearmanr(T, D)\n",
    "vals2"
   ]
  },
  {
   "cell_type": "markdown",
   "metadata": {},
   "source": [
    "A value of $r_s$ close to +1 indicates a positive correlation"
   ]
  },
  {
   "cell_type": "code",
   "execution_count": 15,
   "metadata": {},
   "outputs": [
    {
     "data": {
      "text/plain": [
       "4.213888825657924"
      ]
     },
     "execution_count": 15,
     "metadata": {},
     "output_type": "execute_result"
    }
   ],
   "source": [
    "ts = vals2[0]*np.sqrt(N-2)/(np.sqrt(1-vals2[0]**2))\n",
    "ts"
   ]
  },
  {
   "cell_type": "markdown",
   "metadata": {},
   "source": [
    "### $r_s = 0.830$, $t_s = 4.21$,  $p = 0.294\\%$"
   ]
  },
  {
   "cell_type": "markdown",
   "metadata": {},
   "source": [
    "Therefore, there is a 0.29% chance of obtaining a $|t_s|\\geq 4.21$  under the null hypotheses using a two tailed test. \n",
    "\n",
    "Consequently, it is likely that the null hypothesis is incorrect and there is infact a correlation between $T$ and $D$. The value of $r_s \\sim 1$ indiates that this correlation is likely to be positive."
   ]
  },
  {
   "cell_type": "markdown",
   "metadata": {},
   "source": [
    "### Part 2"
   ]
  },
  {
   "cell_type": "code",
   "execution_count": 16,
   "metadata": {},
   "outputs": [
    {
     "data": {
      "image/png": "[encoded data removed]",
      "text/plain": [
       "<Figure size 1080x360 with 2 Axes>"
      ]
     },
     "metadata": {
      "needs_background": "light"
     },
     "output_type": "display_data"
    }
   ],
   "source": [
    "fig, axs = plt.subplots(1, 2)\n",
    "axs[0].set_title('Histogram of Temperature')\n",
    "axs[0].hist(T, bins = 10, color = \"red\")\n",
    "axs[1].set_title('Histogram of Displacement')\n",
    "axs[1].hist(D, bins = 10, color = \"blue\")\n",
    "axs[0].tick_params(axis='both', which='major', labelsize=20)\n",
    "axs[0].tick_params(axis='both', which='major', labelsize=20)\n",
    "\n",
    "fig.set_figheight(5)\n",
    "fig.set_figwidth(15)"
   ]
  },
  {
   "cell_type": "markdown",
   "metadata": {},
   "source": [
    "The Pearson test assumes the probability distribution of $T$ and $D$ are both gaussian. Clearly, this is not the case. It could be expected that the Spearman rank test performs better than the Pearson correlation test as the former is a \"distriution free\" test and therefore doesn't assume any shapes of the distributions of $T$ and $D$.\n",
    "\n",
    "It just so happens that the two processes produce similar results. This may be due to the fairly unambiguous presence of a positive correlation. "
   ]
  },
  {
   "cell_type": "markdown",
   "metadata": {},
   "source": [
    "### Part 3"
   ]
  },
  {
   "cell_type": "markdown",
   "metadata": {},
   "source": [
    "Linear regression on the data.\n",
    "\n",
    "This is done by minimising \n",
    "\n",
    "\\begin{equation*}\n",
    "R^2 = \\sum^N_{i=1}\\big(d_i - M_i(a,b,c,...)\\big)^2\n",
    "\\end{equation*}\n",
    "\n",
    "Where $M_i$ is the straight line equation $M_i = ax_i+b$\n",
    "\n",
    "\\begin{equation*}\n",
    "\\Rightarrow R^2 = \\sum^N_{i=1}\\big(d_i - ax_i+b\\big)^2\n",
    "\\end{equation*}\n",
    "\n",
    "Where $d_i$ and $x_i$ are $T$ and $D$ depending on how the x and y axis are labelled.\n",
    "\n",
    "Minimising $R^2$ with respect to $a$ and $b$ gives simultaneous equations\n",
    "\n",
    "\\begin{equation*}\n",
    "\\frac{\\partial}{\\partial a} R^2 \\bigg|_{a=\\hat{a}, b = \\hat{b}} = 0\n",
    "\\end{equation*}\n",
    "\n",
    "\\begin{equation*}\n",
    "\\frac{\\partial}{\\partial b} R^2 \\bigg|_{a=\\hat{a}, b = \\hat{b}} = 0\n",
    "\\end{equation*}\n",
    "\n",
    "which are solved by \n",
    "\n",
    "\\begin{equation*}\n",
    "\\hat{a} = \\frac{\\bar{x}\\bar{d}-\\bar{xd}}{\\bar{x^2}-\\bar{x}^2}\n",
    "\\end{equation*}\n",
    "\n",
    "\\begin{equation*}\n",
    "\\hat{b} = \\bar{d}-\\hat{a}\\bar{x}\n",
    "\\end{equation*}\n",
    "\n",
    "This is all conveniently done in the stats package"
   ]
  },
  {
   "cell_type": "code",
   "execution_count": 17,
   "metadata": {},
   "outputs": [],
   "source": [
    "a, b, r_value, p_value, std_err = stats.linregress(T,D)"
   ]
  },
  {
   "cell_type": "code",
   "execution_count": 18,
   "metadata": {},
   "outputs": [],
   "source": [
    "a2, b2, r_value2, p_value2, std_err2 = stats.linregress(D,T)"
   ]
  },
  {
   "cell_type": "code",
   "execution_count": 19,
   "metadata": {},
   "outputs": [],
   "source": [
    "Tdom = np.linspace(df[\"Temp degc\"].min(), df[\"Temp degc\"].max(), 10)\n",
    "Ddom = np.linspace(df[\"Displacement (10^-6m)\"].min(), df[\"Displacement (10^-6m)\"].max(), 10)\n",
    "\n",
    "def M(x, a, b):\n",
    "    y = a*x+b\n",
    "    return y\n",
    "\n",
    "y1 = M(Tdom, a, b)\n",
    "y2 = M(Ddom, a2, b2)"
   ]
  },
  {
   "cell_type": "code",
   "execution_count": 20,
   "metadata": {},
   "outputs": [
    {
     "data": {
      "image/png": "[encoded data removed]",
      "text/plain": [
       "<Figure size 1296x576 with 2 Axes>"
      ]
     },
     "metadata": {
      "needs_background": "light"
     },
     "output_type": "display_data"
    }
   ],
   "source": [
    "fig, axs = plt.subplots(1, 2)\n",
    "axs[0].set_title('D vs T scatter plot with linear regression', fontsize = 20)\n",
    "axs[0].scatter(T, D, color = \"red\")\n",
    "axs[0].plot(Tdom, y1, color = \"red\")\n",
    "axs[0].set_ylabel('Displacement / 10^-6m', fontsize = 20)\n",
    "axs[0].set_xlabel('Temperature / degrees celcius', fontsize = 20)\n",
    "axs[0].legend([\"Best fit line, D = {}T+{}\".format(np.round(a,3), np.round(b, 3))], fontsize = 15)\n",
    "axs[0].tick_params(axis='both', which='major', labelsize=20)\n",
    "\n",
    "axs[1].set_title('T vs D scatter plot with linear regression', fontsize = 20)\n",
    "axs[1].scatter(D, T, color = \"blue\")\n",
    "axs[1].plot(Ddom, y2, color = \"blue\")\n",
    "axs[1].set_xlabel('Displacement / 10^-6m', fontsize = 20)\n",
    "axs[1].set_ylabel('Temperature / degrees celcius', fontsize = 20)\n",
    "axs[1].legend([\"Best fit line, T = {}D+{}\".format(np.round(a2, 3), np.round(b2, 3))], fontsize = 15)\n",
    "axs[1].tick_params(axis='both', which='major', labelsize=20)\n",
    "\n",
    "fig.set_figheight(8)\n",
    "fig.set_figwidth(18)"
   ]
  },
  {
   "cell_type": "code",
   "execution_count": 21,
   "metadata": {},
   "outputs": [
    {
     "name": "stdout",
     "output_type": "stream",
     "text": [
      "1.0\n"
     ]
    }
   ],
   "source": [
    "print(r_value/r_value2)"
   ]
  },
  {
   "cell_type": "markdown",
   "metadata": {},
   "source": [
    "The fact that $\\frac{R1}{R2} = 1$ suggests that the accuracy of the regression fit doesnt change when swapping the domain and range of the plots."
   ]
  }
 ],
 "metadata": {
  "kernelspec": {
   "display_name": "Python 3",
   "language": "python",
   "name": "python3"
  },
  "language_info": {
   "codemirror_mode": {
    "name": "ipython",
    "version": 3
   },
   "file_extension": ".py",
   "mimetype": "text/x-python",
   "name": "python",
   "nbconvert_exporter": "python",
   "pygments_lexer": "ipython3",
   "version": "3.8.5"
  }
 },
 "nbformat": 4,
 "nbformat_minor": 4
}
