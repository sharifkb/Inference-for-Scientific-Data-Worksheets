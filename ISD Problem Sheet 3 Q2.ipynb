{
 "cells": [
  {
   "cell_type": "markdown",
   "metadata": {},
   "source": [
    "# Inference from Scientific Data, 2020 - Worksheet 3 - Question 2"
   ]
  },
  {
   "cell_type": "code",
   "execution_count": 11,
   "metadata": {},
   "outputs": [],
   "source": [
    "import numpy as np\n",
    "import matplotlib.pyplot as plt\n",
    "from astropy import constants as c\n",
    "from scipy import integrate\n",
    "from scipy.stats import norm\n",
    "from scipy import stats\n",
    "from scipy.stats import kstwo"
   ]
  },
  {
   "cell_type": "code",
   "execution_count": 12,
   "metadata": {},
   "outputs": [],
   "source": [
    "Ls = 1.4*10**10\n",
    "alpha = -0.7"
   ]
  },
  {
   "cell_type": "markdown",
   "metadata": {},
   "source": [
    "The first question asks only about the galaxies which appear in the survey, (rather than the complete set in nature). Therefore the whole probablilty space for $L$ spans $10^9<L <\\infty$. For part 1 the Schechter function will be normalised over this reduced domain. \n",
    "\n",
    "For parts 2 and 3, the whole distribution will be considered, i.e the luminosities of galaxies found in nature (rather than just on the survey). Consequently, the Schechter function will be used again but normalised over $0< L <\\infty$.\n",
    "\n",
    "(In practice $\\infty \\simeq 10^{12}$ is a sufficiently large domain, and for part 2 and 3, the normalisation will begin at 1 to avoid \n",
    "0 division error."
   ]
  },
  {
   "cell_type": "code",
   "execution_count": 13,
   "metadata": {},
   "outputs": [],
   "source": [
    "l = 10**9\n",
    "u = 10**12\n",
    "\n",
    "s1 = int((u-l)/(10**7))\n",
    "s2 = int((u)/(10**7))\n",
    "\n",
    "Ldom1 = np.linspace(l, u, s1)\n",
    "Ldom2 = np.linspace(1, u, s2)"
   ]
  },
  {
   "cell_type": "markdown",
   "metadata": {},
   "source": [
    "The Schechter function is given by\n",
    "\n",
    "\\begin{equation*}\n",
    "P(L)dL \\propto \\bigg(\\frac{L}{L_\\star}\\bigg)^\\alpha exp\\bigg(-\\frac{L}{L_\\star}\\bigg)\\frac{dL}{L_\\star}\n",
    "\\end{equation*}\n",
    "\n",
    "where $L_\\star = 1.4\\times10^{10} L_\\odot$, \n",
    "$\\alpha = -0.7$ and \n",
    "$L_\\odot$ has been set to 1"
   ]
  },
  {
   "cell_type": "code",
   "execution_count": 14,
   "metadata": {},
   "outputs": [],
   "source": [
    "def func(L):\n",
    "    return (L/Ls)**alpha*np.exp(-L/Ls)/Ls"
   ]
  },
  {
   "cell_type": "code",
   "execution_count": 15,
   "metadata": {},
   "outputs": [],
   "source": [
    "z1 = np.sum(func(Ldom1))\n",
    "z2 = np.sum(func(Ldom2))\n",
    "\n",
    "PL1 = func(Ldom1)/z1\n",
    "PL2 = func(Ldom2)/z2"
   ]
  },
  {
   "cell_type": "code",
   "execution_count": 16,
   "metadata": {
    "scrolled": true
   },
   "outputs": [
    {
     "data": {
      "image/png": "[encoded data removed]",
      "text/plain": [
       "<Figure size 720x288 with 1 Axes>"
      ]
     },
     "metadata": {
      "needs_background": "light"
     },
     "output_type": "display_data"
    }
   ],
   "source": [
    "fig, axs = plt.subplots(1, 1)\n",
    "axs.set_title('Galaxy density as a function of Luminosity', fontsize = 20)\n",
    "axs.plot(Ldom1, PL1, color = \"red\")\n",
    "axs.set_ylabel(\"P(L)\", fontsize = 20)\n",
    "axs.set_xlim(10**9, 10**11)\n",
    "axs.set_xlabel('Luminosity / $L_{\\odot}$', fontsize = 20)\n",
    "axs.tick_params(axis='both', which='major', labelsize=20)\n",
    "fig.set_figheight(4)\n",
    "fig.set_figwidth(10)"
   ]
  },
  {
   "cell_type": "markdown",
   "metadata": {},
   "source": [
    "### Part 1"
   ]
  },
  {
   "cell_type": "markdown",
   "metadata": {},
   "source": [
    "The expectation value of the luminosity of galaxies on the survey:\n",
    "\n",
    "\\begin{equation*}\n",
    "\\langle L \\rangle = \\int_{L_{min}}^{\\infty} L' P(L') dL'\n",
    "\\end{equation*}\n",
    "\n",
    "where $L_{min} = 10^9$ corresponds to the sensitivity of the instrument. Galaxies darker than this wont be observed. The upper\n",
    "bound can be set to $10^{12}$ without effecting accuracy.\n",
    "\n",
    "This can be found numerically using the trapezium rule"
   ]
  },
  {
   "cell_type": "code",
   "execution_count": 17,
   "metadata": {},
   "outputs": [
    {
     "data": {
      "text/plain": [
       "8.112101067442985"
      ]
     },
     "execution_count": 17,
     "metadata": {},
     "output_type": "execute_result"
    }
   ],
   "source": [
    "L_exp = np.sum(Ldom1*PL1)\n",
    "L_exp*10**-9"
   ]
  },
  {
   "cell_type": "markdown",
   "metadata": {},
   "source": [
    "### $\\Rightarrow \\langle L \\rangle_{survey} = 8.11 \\times 10^9 L_\\odot$"
   ]
  },
  {
   "cell_type": "markdown",
   "metadata": {},
   "source": [
    "Note that this is the expected luminosity of galaxies whice were found on the survey only. The expected luminosty of galaxies found in nature will be smaller than this."
   ]
  },
  {
   "cell_type": "code",
   "execution_count": 18,
   "metadata": {},
   "outputs": [
    {
     "data": {
      "text/plain": [
       "1.3894490454187944"
      ]
     },
     "execution_count": 18,
     "metadata": {},
     "output_type": "execute_result"
    }
   ],
   "source": [
    "L_exp = np.sum(Ldom2*PL2)\n",
    "L_exp*10**-6"
   ]
  },
  {
   "cell_type": "markdown",
   "metadata": {},
   "source": [
    "### $\\Rightarrow \\langle L \\rangle_{nature} = 1.39 \\times 10^6 L_\\odot$"
   ]
  },
  {
   "cell_type": "markdown",
   "metadata": {},
   "source": [
    "### Part 2"
   ]
  },
  {
   "cell_type": "markdown",
   "metadata": {},
   "source": [
    "The Cumulative distribution function is defined as\n",
    "\n",
    "\\begin{equation*}\n",
    "C(L) = \\int_{L_{min}}^{L} P(L') dL'\n",
    "\\end{equation*}\n",
    "\n",
    "This question asks whether the the galaxies fit in with nature, therefore the full domain over L will be used, $0<L<10^{12}$."
   ]
  },
  {
   "cell_type": "code",
   "execution_count": 32,
   "metadata": {},
   "outputs": [
    {
     "data": {
      "text/plain": [
       "0.9997041348387122"
      ]
     },
     "execution_count": 32,
     "metadata": {},
     "output_type": "execute_result"
    }
   ],
   "source": [
    "PL3 = func(Ldom2)/z2\n",
    "C = PL3\n",
    "i=1\n",
    "while i<len(PL2):\n",
    "    C[i] = (C[i-1]+PL2[i])\n",
    "    i+=1\n",
    "\n",
    "C[0]"
   ]
  },
  {
   "cell_type": "code",
   "execution_count": 20,
   "metadata": {},
   "outputs": [],
   "source": [
    "A = [1.39, 1.40, 1.29, 5.95, 2.97, 1.63, 1.17, 2.06, 4.69, 2.48]\n",
    "G = []\n",
    "for i in A:\n",
    "    G.append(i*10**9)"
   ]
  },
  {
   "cell_type": "code",
   "execution_count": 21,
   "metadata": {},
   "outputs": [],
   "source": [
    "So_points = np.sort(G)\n",
    "So_values = np.arange(1, len(G)+1)/len(G)"
   ]
  },
  {
   "cell_type": "code",
   "execution_count": 22,
   "metadata": {},
   "outputs": [
    {
     "data": {
      "image/png": "[encoded data removed]",
      "text/plain": [
       "<Figure size 432x288 with 1 Axes>"
      ]
     },
     "metadata": {
      "needs_background": "light"
     },
     "output_type": "display_data"
    }
   ],
   "source": [
    "plt.plot(Ldom2, C)\n",
    "plt.step(So_points, So_values, where=\"post\")\n",
    "plt.xlabel(\"L / $L_\\odot$\"); plt.ylabel(\"C(L)\")\n",
    "plt.xlim(0, So_points[9]+10**9)\n",
    "plt.show()"
   ]
  },
  {
   "cell_type": "markdown",
   "metadata": {},
   "source": [
    "The expected result suggests that the galaxies in nature have L = 0. This is expected because $P(L \\rightarrow 0) \\rightarrow \\infty$, consequently, $C[0]\\simeq 1$ "
   ]
  },
  {
   "cell_type": "markdown",
   "metadata": {},
   "source": [
    "### Part 3"
   ]
  },
  {
   "cell_type": "markdown",
   "metadata": {},
   "source": [
    "Using the KS test, we can calculate D:\n",
    "\n",
    "\\begin{equation*}\n",
    "D = max|S_e(L_i) - S_0(L_i)|\n",
    "\\end{equation*}\n",
    "\n",
    "where $S_e(L)$ is the expected cumulitive distribution, (blue plot). $S_0(L)$ is the observed cumulative distribution in $G$, (orange plot).\n",
    "\n",
    "The null hypothesis $H_0$ is that the data in $G$ does follow the distribution"
   ]
  },
  {
   "cell_type": "code",
   "execution_count": 23,
   "metadata": {},
   "outputs": [],
   "source": [
    "pl = func(So_points)/z2 #Probability of obtaining each value of G\n",
    "N = len(G)\n",
    "F = np.empty(N)\n",
    "\n",
    "i=0\n",
    "while i<N:\n",
    "    K = 0\n",
    "    j = 0\n",
    "    while pl[i] < PL2[j]:   #since PL decreases with increasing L\n",
    "        K+=PL2[j]\n",
    "        j+=1\n",
    "    F[i] = K\n",
    "    i+=1"
   ]
  },
  {
   "cell_type": "code",
   "execution_count": 24,
   "metadata": {},
   "outputs": [
    {
     "data": {
      "text/plain": [
       "0.8998407319179244"
      ]
     },
     "execution_count": 24,
     "metadata": {},
     "output_type": "execute_result"
    }
   ],
   "source": [
    "D = abs(So_values-F).max()\n",
    "D"
   ]
  },
  {
   "cell_type": "markdown",
   "metadata": {},
   "source": [
    "### $D = 0.9$"
   ]
  },
  {
   "cell_type": "markdown",
   "metadata": {},
   "source": [
    "$D$ follows a Kolmogorov distribution, therefore we can find the probability of obtaining a value of $D$ at least as extreme as $D \\sim 0.9$ to assess whether $G$ follows $P(L)$."
   ]
  },
  {
   "cell_type": "code",
   "execution_count": 25,
   "metadata": {},
   "outputs": [
    {
     "data": {
      "image/png": "[encoded data removed]",
      "text/plain": [
       "<Figure size 432x288 with 1 Axes>"
      ]
     },
     "metadata": {
      "needs_background": "light"
     },
     "output_type": "display_data"
    }
   ],
   "source": [
    "grid = np.linspace(0, 1, 1000)\n",
    "plt.plot(grid, kstwo(N).pdf(grid))\n",
    "plt.xlabel(\"D\"); plt.ylabel(\"KS Distribution PDF\");\n",
    "plt.axvline(D, c=\"k\", lw=1)\n",
    "plt.xlim(0, 1.2); plt.ylim(0, 6);\n",
    "plt.show()"
   ]
  },
  {
   "cell_type": "code",
   "execution_count": 26,
   "metadata": {},
   "outputs": [
    {
     "data": {
      "text/plain": [
       "2.0320833904463598e-10"
      ]
     },
     "execution_count": 26,
     "metadata": {},
     "output_type": "execute_result"
    }
   ],
   "source": [
    "P = 1-kstwo(N).cdf(D)\n",
    "P"
   ]
  },
  {
   "cell_type": "markdown",
   "metadata": {},
   "source": [
    "### p-value $\\sim 0\\%$"
   ]
  },
  {
   "cell_type": "markdown",
   "metadata": {},
   "source": [
    "Therefore the probability of obtaining a value of D at least this extreme is 0%. Therefore it is unlikely that $G$ follows the distributution given at the 90% level."
   ]
  },
  {
   "cell_type": "code",
   "execution_count": 27,
   "metadata": {},
   "outputs": [
    {
     "data": {
      "text/plain": [
       "KstestResult(statistic=1.0, pvalue=0.0)"
      ]
     },
     "execution_count": 27,
     "metadata": {},
     "output_type": "execute_result"
    }
   ],
   "source": [
    "stats.ks_2samp(func(Ldom2)/z2, G)"
   ]
  }
 ],
 "metadata": {
  "kernelspec": {
   "display_name": "Python 3",
   "language": "python",
   "name": "python3"
  },
  "language_info": {
   "codemirror_mode": {
    "name": "ipython",
    "version": 3
   },
   "file_extension": ".py",
   "mimetype": "text/x-python",
   "name": "python",
   "nbconvert_exporter": "python",
   "pygments_lexer": "ipython3",
   "version": "3.8.5"
  }
 },
 "nbformat": 4,
 "nbformat_minor": 4
}
